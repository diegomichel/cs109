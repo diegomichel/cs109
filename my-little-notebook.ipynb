{
 "metadata": {
  "name": "",
  "signature": "sha256:0508227e52741d75cd0a543f17007643037a689442e183f762adc604c29aa39d"
 },
 "nbformat": 3,
 "nbformat_minor": 0,
 "worksheets": [
  {
   "cells": [
    {
     "cell_type": "code",
     "collapsed": false,
     "input": [],
     "language": "python",
     "metadata": {},
     "outputs": []
    }
   ],
   "metadata": {}
  }
 ]
}